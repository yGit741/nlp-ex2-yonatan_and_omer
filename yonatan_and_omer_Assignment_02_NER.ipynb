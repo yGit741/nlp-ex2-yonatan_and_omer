{
  "cells": [
    {
      "cell_type": "markdown",
      "metadata": {
        "id": "k-WJBimYDLJS"
      },
      "source": [
        "# Natural Language Processing\n",
        "![](https://i.imgur.com/qkg2E2D.png)\n",
        "\n",
        "## Assignment 002 - NER Tagger\n",
        "\n",
        "> Notebook by:\n",
        "> - NLP Course Stuff\n",
        "## Revision History\n",
        "\n",
        "| Version | Date       | User        | Content / Changes                                                   |\n",
        "|---------|------------|-------------|---------------------------------------------------------------------|\n",
        "| 0.1.000 | 29/05/2025 | course staff| First version                                                       |\n"
      ]
    },
    {
      "cell_type": "markdown",
      "metadata": {
        "id": "Z-fCqGh9ybgm"
      },
      "source": [
        "## Overview\n",
        "In this assignment, you will build a complete training and testing pipeline for a neural sequential tagger for named entities using LSTM.\n",
        "\n",
        "## Dataset\n",
        "You will work with the ReCoNLL 2003 dataset, a corrected version of the [CoNLL 2003 dataset](https://www.clips.uantwerpen.be/conll2003/ner/):\n",
        "\n",
        "**Click on those links so you have access to the data!**\n",
        "- [Train data](https://drive.google.com/file/d/1CqEGoLPVKau3gvVrdG6ORyfOEr1FSZGf/view?usp=sharing)\n",
        "\n",
        "- [Dev data](https://drive.google.com/file/d/1rdUida-j3OXcwftITBlgOh8nURhAYUDw/view?usp=sharing)\n",
        "\n",
        "- [Test data](https://drive.google.com/file/d/137Ht40OfflcsE6BIYshHbT5b2iIJVaDx/view?usp=sharing)\n",
        "\n",
        "As you will see, the annotated texts are labeled according to the `IOB` annotation scheme (more on this below), for 3 entity types: Person, Organization, Location.\n",
        "\n",
        "## Your Implementation\n",
        "\n",
        "Please create a local copy of this template Colab's Notebook:\n",
        "\n",
        "[![Open In Colab](https://colab.research.google.com/assets/colab-badge.svg)](https://colab.research.google.com/drive/1KGkObwUn5QQm_v0nB0nAUlB4YrwThuzl#scrollTo=Z-fCqGh9ybgm)\n",
        "\n",
        "The assignment's instructions are there; follow the notebook.\n",
        "\n",
        "## Submission\n",
        "- **Notebook Link**: Add the URL to your assignment's notebook in the `notebook_link.txt` file, following the format provided in the example.\n",
        "- **Access**: Ensure the link has edit permissions enabled to allow modifications if needed.\n",
        "- **Deadline**: <font color='green'>12/06/2025</font>.\n",
        "- **Platform**: Continue using GitHub for submissions. Push your project to the team repository and monitor the test results under the actions section.\n",
        "\n",
        "Good Luck 🤗\n"
      ]
    },
    {
      "cell_type": "markdown",
      "metadata": {
        "id": "VOy8IghquR6x"
      },
      "source": [
        "<!-- ## NER schemes:  \n",
        "\n",
        "> `IO`: is the simplest scheme that can be applied to this task. In this scheme, each token from the dataset is assigned one of two tags: an inside tag (`I`) and an outside tag (`O`). The `I` tag is for named entities, whereas the `O` tag is for normal words. This scheme has a limitation, as it cannot correctly encode consecutive entities of the same type.\n",
        "\n",
        "> `IOB`: This scheme is also referred to in the literature as BIO and has been adopted by the Conference on Computational Natural Language Learning (CoNLL) [1]. It assigns a tag to each word in the text, determining whether it is the beginning (`B`) of a known named entity, inside (`I`) it, or outside (`O`) of any known named entities.\n",
        "\n",
        "> `IOE`: This scheme works nearly identically to `IOB`, but it indicates the end of the entity (`E` tag) instead of its beginning.\n",
        "\n",
        "> `IOBES`: An alternative to the IOB scheme is `IOBES`, which increases the amount of information related to the boundaries of named entities. In addition to tagging words at the beginning (`B`), inside (`I`), end (`E`), and outside (`O`) of a named entity. It also labels single-token entities with the tag `S`.\n",
        "\n",
        "> `BI`: This scheme tags entities in a similar method to `IOB`. Additionally, it labels the beginning of non-entity words with the tag B-O and the rest as I-O.\n",
        "\n",
        "> `IE`: This scheme works exactly like `IOE` with the distinction that it labels the end of non-entity words with the tag `E-O` and the rest as `I-O`.\n",
        "\n",
        "> `BIES`: This scheme encodes the entities similar to `IOBES`. In addition, it also encodes the non-entity words using the same method. It uses `B-O` to tag the beginning of non-entity words, `I-O` to tag the inside of non-entity words, and `S-O` for single non-entity tokens that exist between two entities. -->\n",
        "\n",
        "\n",
        "## NER Schemes\n",
        "\n",
        "### IO\n",
        "- **Description**: The simplest scheme for named entity recognition (NER).\n",
        "- **Tags**:\n",
        "  - `I`: Inside a named entity.\n",
        "  - `O`: Outside any named entity.\n",
        "- **Limitation**: Cannot correctly encode consecutive entities of the same type.\n",
        "\n",
        "### IOB (BIO)\n",
        "- **Description**: Adopted by the Conference on Computational Natural Language Learning (CoNLL).\n",
        "- **Tags**:\n",
        "  - `B`: Beginning of a named entity.\n",
        "  - `I`: Inside a named entity.\n",
        "  - `O`: Outside any named entity.\n",
        "- **Advantage**: Can encode the boundaries of consecutive entities.\n",
        "\n",
        "### IOE\n",
        "- **Description**: Similar to IOB, but indicates the end of an entity.\n",
        "- **Tags**:\n",
        "  - `I`: Inside a named entity.\n",
        "  - `O`: Outside any named entity.\n",
        "  - `E`: End of a named entity.\n",
        "- **Advantage**: Focuses on the end boundary of entities.\n",
        "\n",
        "### IOBES\n",
        "- **Description**: An extension of IOB with additional boundary information.\n",
        "- **Tags**:\n",
        "  - `B`: Beginning of a named entity.\n",
        "  - `I`: Inside a named entity.\n",
        "  - `O`: Outside any named entity.\n",
        "  - `E`: End of a named entity.\n",
        "  - `S`: Single-token named entity.\n",
        "- **Advantage**: Provides more detailed boundary information for named entities.\n",
        "\n",
        "### BI\n",
        "- **Description**: Tags entities similarly to IOB and labels the beginning of non-entity words.\n",
        "- **Tags**:\n",
        "  - `B`: Beginning of a named entity.\n",
        "  - `I`: Inside a named entity.\n",
        "  - `B-O`: Beginning of a non-entity word.\n",
        "  - `I-O`: Inside a non-entity word.\n",
        "- **Advantage**: Distinguishes the beginning of non-entity sequences.\n",
        "\n",
        "### IE\n",
        "- **Description**: Similar to IOE but for non-entity words.\n",
        "- **Tags**:\n",
        "  - `I`: Inside a named entity.\n",
        "  - `O`: Outside any named entity.\n",
        "  - `E`: End of a named entity.\n",
        "  - `E-O`: End of a non-entity word.\n",
        "  - `I-O`: Inside a non-entity word.\n",
        "- **Advantage**: Highlights the end of non-entity sequences.\n",
        "\n",
        "### BIES\n",
        "- **Description**: Encodes both entities and non-entity words using the IOBES method.\n",
        "- **Tags**:\n",
        "  - `B`: Beginning of a named entity.\n",
        "  - `I`: Inside a named entity.\n",
        "  - `O`: Outside any named entity.\n",
        "  - `E`: End of a named entity.\n",
        "  - `S`: Single-token named entity.\n",
        "  - `B-O`: Beginning of a non-entity word.\n",
        "  - `I-O`: Inside a non-entity word.\n",
        "  - `S-O`: Single non-entity token.\n",
        "- **Advantage**: Comprehensive encoding for both entities and non-entities.\n",
        "\n",
        "\n"
      ]
    },
    {
      "cell_type": "code",
      "execution_count": 1,
      "metadata": {
        "id": "bRwONXCzi28v"
      },
      "outputs": [],
      "source": [
        "!mkdir data\n",
        "# Fetch data\n",
        "# train_link = 'https://drive.google.com/file/d/1CqEGoLPVKau3gvVrdG6ORyfOEr1FSZGf/view?usp=sharing'\n",
        "# dev_link   = 'https://drive.google.com/file/d/1rdUida-j3OXcwftITBlgOh8nURhAYUDw/view?usp=sharing'\n",
        "# test_link  = 'https://drive.google.com/file/d/137Ht40OfflcsE6BIYshHbT5b2iIJVaDx/view?usp=sharing'\n",
        "\n",
        "!wget -q --no-check-certificate 'https://docs.google.com/uc?export=download&id=1CqEGoLPVKau3gvVrdG6ORyfOEr1FSZGf' -O data/train.txt\n",
        "!wget -q --no-check-certificate 'https://docs.google.com/uc?export=download&id=1rdUida-j3OXcwftITBlgOh8nURhAYUDw' -O data/dev.txt\n",
        "!wget -q --no-check-certificate 'https://docs.google.com/uc?export=download&id=137Ht40OfflcsE6BIYshHbT5b2iIJVaDx' -O data/test.txt\n"
      ]
    },
    {
      "cell_type": "code",
      "execution_count": 2,
      "metadata": {
        "id": "5QNUSyEwvWqn"
      },
      "outputs": [],
      "source": [
        "# Any additional needed libraries\n",
        "# !pip install --q"
      ]
    },
    {
      "cell_type": "code",
      "execution_count": 3,
      "metadata": {
        "id": "3enPCGBF8FlX"
      },
      "outputs": [],
      "source": [
        "# Standard Library Imports\n",
        "import os\n",
        "import copy\n",
        "import random\n",
        "import warnings\n",
        "from collections import defaultdict\n",
        "from typing import Optional\n",
        "\n",
        "# ML\n",
        "import numpy as np\n",
        "import scipy as sp\n",
        "import pandas as pd\n",
        "\n",
        "# Visual\n",
        "import matplotlib\n",
        "import seaborn as sns\n",
        "from tqdm import tqdm\n",
        "from tabulate import tabulate\n",
        "import matplotlib.pyplot as plt\n",
        "from IPython.display import display\n",
        "\n",
        "# DL\n",
        "import torch as th\n",
        "import torch.nn as nn\n",
        "from torch.optim import Adam\n",
        "from torch.utils.data import DataLoader, Dataset\n",
        "\n",
        "# Metrics\n",
        "from sklearn import metrics\n",
        "from sklearn.metrics import accuracy_score , roc_auc_score, classification_report, confusion_matrix, precision_recall_fscore_support\n"
      ]
    },
    {
      "cell_type": "code",
      "execution_count": 4,
      "metadata": {
        "id": "ZUM4WJ9PwF0x"
      },
      "outputs": [],
      "source": [
        "SEED = 42\n",
        "# Set the random seed for Python\n",
        "random.seed(SEED)\n",
        "\n",
        "# Set the random seed for numpy\n",
        "np.random.seed(SEED)\n",
        "\n",
        "# Set the random seed for pytorch\n",
        "th.manual_seed(SEED)\n",
        "\n",
        "# If using CUDA (for GPU operations)\n",
        "th.cuda.manual_seed(SEED)\n",
        "\n",
        "# Set up the device\n",
        "# TO DO ----------------------------------------------------------------------\n",
        "DEVICE = None\n",
        "# TO DO ----------------------------------------------------------------------\n",
        "# assert DEVICE == \"cuda\"\n",
        "\n",
        "DataType = list[tuple[list[str], list[str]]]"
      ]
    },
    {
      "cell_type": "markdown",
      "metadata": {
        "id": "f-1shPaJ0z1B"
      },
      "source": [
        "# Part 1 - Dataset Preparation"
      ]
    },
    {
      "cell_type": "markdown",
      "metadata": {
        "id": "5ul2Y3vuPoV8"
      },
      "source": [
        "## Step 1: Read Data\n",
        "Write a function for reading the data from a single file (of the ones that are provided above).   \n",
        "- The function recieves a filepath\n",
        "- The funtion encodes every sentence individually using a pair of lists, one list contains the words and one list contains the tags.\n",
        "- Each list pair will be added to a general list (data), which will be returned back from the function.\n",
        "\n",
        "Example output:\n",
        "```\n",
        "[\n",
        "  (['At','Trent','Bridge',':'],['O','B-LOC','I-LOC ','O']),\n",
        "  ([...],[...]),\n",
        "  ...\n",
        "]\n",
        "```"
      ]
    },
    {
      "cell_type": "code",
      "execution_count": 5,
      "metadata": {
        "id": "prgzgtt8Jw4Y"
      },
      "outputs": [],
      "source": [
        "def read_data(filepath:str) -> DataType:\n",
        "  \"\"\"\n",
        "  Read data from a single file.\n",
        "  The function recieves a filepath\n",
        "  The funtion encodes every sentence using a pair of lists, one list contains the words and one list contains the tags.\n",
        "  :param filepath: path to the file\n",
        "  :return: data as a list of tuples\n",
        "  \"\"\"\n",
        "  data = []\n",
        "  # TO DO ----------------------------------------------------------------------\n",
        "  sentence_words = []\n",
        "  sentence_tags = []\n",
        "\n",
        "  with open(filepath, 'r') as f:\n",
        "    for line in f: # read line by line from the file\n",
        "      line = line.strip()\n",
        "\n",
        "      if line:  # check the line isn't empty\n",
        "        parts = line.split() # split the line to word and a tag\n",
        "        if len(parts) == 2: # verify format\n",
        "          word, tag = parts\n",
        "          sentence_words.append(word)\n",
        "          sentence_tags.append(tag)\n",
        "        else:\n",
        "          print(f\"Problem with format at line: {line} - line was skipped\")\n",
        "\n",
        "      else: # if empty line it should be the end of a sentence\n",
        "        if len(sentence_words) == len(sentence_tags): # verify that we have the same amount of tags and words\n",
        "              data.append((sentence_words, sentence_tags)) # add new tagged sentence in the desired format\n",
        "        else:\n",
        "            print(f\"\"\"Error: Mismatched word and tag counts in sentence.\n",
        "              Skipping sentence: {sentence_words}\"\"\")\n",
        "        sentence_words = []\n",
        "        sentence_tags = []\n",
        "\n",
        "   # handle the last sentence if it doesn't end with an empty line\n",
        "  if sentence_words:\n",
        "      if len(sentence_words) == len(sentence_tags):\n",
        "          data.append((sentence_words, sentence_tags))\n",
        "      else:\n",
        "          print(f\"\"\"Error: Mismatched word and tag counts in last sentence.\n",
        "            Skipping sentence: {sentence_words}\"\"\")\n",
        "\n",
        "  # TO DO ----------------------------------------------------------------------\n",
        "  return data"
      ]
    },
    {
      "cell_type": "code",
      "execution_count": 6,
      "metadata": {
        "id": "yURR0GmX2i8M"
      },
      "outputs": [],
      "source": [
        "train = read_data(\"data/train.txt\")\n",
        "dev = read_data(\"data/dev.txt\")\n",
        "test = read_data(\"data/test.txt\")"
      ]
    },
    {
      "cell_type": "code",
      "source": [
        "############################ Our Tests ###########################\n",
        "\n",
        "# Verify the structure of the output from read_data\n",
        "train_data = read_data('data/train.txt')\n",
        "\n",
        "# Check if the output is a list of tuples\n",
        "is_output_list_of_tuples = isinstance(train_data, list) and all(isinstance(item, tuple) for item in train_data)\n",
        "\n",
        "# Check if each tuple contains two lists\n",
        "each_tuple_has_two_lists = all(len(item) == 2 and isinstance(item[0], list) and isinstance(item[1], list) for item in train_data)\n",
        "\n",
        "# Check if all items in the first list of each tuple are strings\n",
        "all_words_are_strings = all(all(isinstance(word, str) for word in sentence[0]) for sentence in train_data)\n",
        "\n",
        "# Check if all items in the second list of each tuple are strings\n",
        "all_tags_are_strings = all(all(isinstance(tag, str) for tag in sentence[1]) for sentence in train_data)\n",
        "\n",
        "# Check if the lengths of the word list and tag list are the same for each sentence\n",
        "word_tag_list_lengths_match = all(len(sentence[0]) == len(sentence[1]) for sentence in train_data)\n",
        "\n",
        "# check\n",
        "set([tag for pair in train for tag in pair[1]])\n",
        "\n",
        "# Print verification results with informative names and test manners\n",
        "print(f\"Test: Output is a list of tuples: {is_output_list_of_tuples}\")\n",
        "print(f\"Test: Each tuple contains two lists: {each_tuple_has_two_lists}\")\n",
        "print(f\"Test: All words in sentence lists are strings: {all_words_are_strings}\")\n",
        "print(f\"Test: All tags in tag lists are strings: {all_tags_are_strings}\")\n",
        "print(f\"Test: Word and tag lists have matching lengths for each sentence: {word_tag_list_lengths_match}\")"
      ],
      "metadata": {
        "id": "0A_Zt0ofGZ4f",
        "colab": {
          "base_uri": "https://localhost:8080/"
        },
        "outputId": "28f4c1ee-b43a-429b-b8e6-4d2a32a53e4a"
      },
      "execution_count": 7,
      "outputs": [
        {
          "output_type": "stream",
          "name": "stdout",
          "text": [
            "Test: Output is a list of tuples: True\n",
            "Test: Each tuple contains two lists: True\n",
            "Test: All words in sentence lists are strings: True\n",
            "Test: All tags in tag lists are strings: True\n",
            "Test: Word and tag lists have matching lengths for each sentence: True\n"
          ]
        }
      ]
    },
    {
      "cell_type": "code",
      "source": [],
      "metadata": {
        "id": "4pPqQg1Px1IE"
      },
      "execution_count": 7,
      "outputs": []
    },
    {
      "cell_type": "code",
      "source": [],
      "metadata": {
        "colab": {
          "base_uri": "https://localhost:8080/"
        },
        "id": "7ZY95Ek_sG5q",
        "outputId": "10473b62-84fd-4ec5-9a0a-99a8e4da4cb4"
      },
      "execution_count": 8,
      "outputs": [
        {
          "output_type": "execute_result",
          "data": {
            "text/plain": [
              "{'B-LOC', 'B-ORG', 'B-PER', 'I-LOC', 'I-ORG', 'I-PER', 'O'}"
            ]
          },
          "metadata": {},
          "execution_count": 8
        }
      ]
    },
    {
      "cell_type": "code",
      "source": [],
      "metadata": {
        "id": "QUJHhicbx9yA"
      },
      "execution_count": 8,
      "outputs": []
    },
    {
      "cell_type": "markdown",
      "source": [
        "<!-- ## Step 2: Create vocab\n",
        "\n",
        "The following `Vocab` class can be served as a dictionary that maps words and tags into Ids.   \n",
        "The `UNK_TOKEN` should be used for words that are not part of the training data.\n",
        "\n",
        "Note: you may change the Vocab class. -->\n",
        "\n",
        "## Step 2: Convert IOB Tags to IOBES Scheme\n",
        "\n",
        "### Your Task\n",
        "1. Implement the `iob_to_iobes` function to convert IOB tags to IOBES.\n",
        "2. Apply this conversion to the datasets.\n",
        "\n",
        "The IOBES scheme adds:\n",
        "- `E-X`: End of entity type X (the last token of a multi-token entity)\n",
        "- `S-X`: Single token entity of type X (both beginning and end)\n",
        "\n",
        "Example conversion:\n",
        "- `B-PER I-PER O` → `B-PER E-PER O`\n",
        "- `B-LOC O` → `S-LOC O`\n",
        "\n"
      ],
      "metadata": {
        "id": "RGnHLdxhEtIl"
      }
    },
    {
      "cell_type": "code",
      "source": [
        "def iob_to_iobes(tags: list[str]) -> list[str]:\n",
        "  \"\"\"\n",
        "  Convert IOB tags to IOBES format.\n",
        "\n",
        "  The IOB format tags tokens as:\n",
        "  - B-X: Beginning of entity type X\n",
        "  - I-X: Inside entity type X\n",
        "  - O: Outside any entity\n",
        "\n",
        "  The IOBES format adds:\n",
        "  - E-X: End of entity type X\n",
        "  - S-X: Single token entity of type X\n",
        "\n",
        "  Args:\n",
        "      tags (list): List of IOB tags\n",
        "\n",
        "  Returns:\n",
        "      list: List of tags in IOBES format\n",
        "  \"\"\"\n",
        "  # TO DO ----------------------------------------------------------------------\n",
        "  iobes_list = []\n",
        "\n",
        "  # add 'O' to handle the last tag's\n",
        "  tags_with_sentinel = tags + ['O']\n",
        "\n",
        "  for current_tag, next_tag in zip(tags_with_sentinel[:-1], tags_with_sentinel[1:]):\n",
        "    # for O do nothing\n",
        "    if current_tag == 'O':\n",
        "      iobes_list.append('O')\n",
        "\n",
        "    # for Begining of entity make it S if it is single\n",
        "    elif current_tag.startswith('B-'):\n",
        "      entity_type = current_tag[2:]\n",
        "      # check if the next tag is an 'I-'\n",
        "      if next_tag.startswith('I-'):\n",
        "          next_entity_type = next_tag[2:]\n",
        "          # check if it's an 'I-' of the *same* entity type\n",
        "          if next_entity_type == entity_type:\n",
        "            iobes_list.append(current_tag) # it's the beginning of a multi-token entity\n",
        "          else:\n",
        "              # warning for B-X followed by I-Y (X != Y)\n",
        "              print(f\"\"\"Warning: Inconsistent tag sequence found: {current_tag}\n",
        "                    followed by {next_tag}. Converting {current_tag} to S-{entity_type}.\"\"\")\n",
        "              iobes_list.append(f'S-{entity_type}') # treat as single-token entity\n",
        "      else:\n",
        "        iobes_list.append(f'S-{entity_type}') # it's a single-token entity (followed by O, B- different type, or end of sequence)\n",
        "\n",
        "    # for Intermidiate of entity make it E if the next token is of differnt type\n",
        "    elif current_tag.startswith('I-'):\n",
        "      entity_type = current_tag[2:]\n",
        "      # check if the next tag continues the same entity\n",
        "      if next_tag.startswith('I-') and next_tag[2:] == entity_type:\n",
        "          iobes_list.append(current_tag) # It's inside a multi-token entity\n",
        "      else:\n",
        "          iobes_list.append(f'E-{entity_type}') # It's the end of a multi-token entity (followed by O, B- different type, or end of sequence)\n",
        "\n",
        "    # handle edge cases - where I tag appears without a preceding B or I of the same type\n",
        "    else:\n",
        "        # if we encounter an unexpected tag format (like an isolated I-), treat it as O and warn\n",
        "        print(f\"Warning: Encountered an unexpected or isolated tag format: {current_tag}. Treating as 'O'.\")\n",
        "        iobes_list.append('O')\n",
        "\n",
        "  # TO DO ----------------------------------------------------------------------\n",
        "  return iobes_list\n",
        "\n",
        "\n",
        "\n",
        "def convert_dataset_to_iobes(dataset: DataType) -> DataType:\n",
        "  \"\"\"\n",
        "  Convert a dataset from IOB to IOBES format.\n",
        "\n",
        "  Args:\n",
        "      dataset (DataType): Dataset in IOB format\n",
        "\n",
        "  Returns:\n",
        "      DataType: Dataset in IOBES format\n",
        "  \"\"\"\n",
        "  # TO DO ----------------------------------------------------------------------\n",
        "  iobes_dataset = []\n",
        "  for pair in dataset:\n",
        "    words, tags = pair\n",
        "    iobes_tags = iob_to_iobes(tags)\n",
        "    iobes_dataset.append((words, iobes_tags))\n",
        "  # TO DO ----------------------------------------------------------------------\n",
        "  return iobes_dataset"
      ],
      "metadata": {
        "id": "BPFKxdQxFRYw"
      },
      "execution_count": 9,
      "outputs": []
    },
    {
      "cell_type": "code",
      "source": [
        "!cat /proc/meminfo | head -n 5\n",
        "!top -b -n1 | head -20"
      ],
      "metadata": {
        "colab": {
          "base_uri": "https://localhost:8080/"
        },
        "id": "wnrgG6P-yBQo",
        "outputId": "e2ba9bfe-0add-4a2b-f29f-024f24d3f963"
      },
      "execution_count": 10,
      "outputs": [
        {
          "output_type": "stream",
          "name": "stdout",
          "text": [
            "MemTotal:       13289416 kB\n",
            "MemFree:         6910948 kB\n",
            "MemAvailable:   11810472 kB\n",
            "Buffers:          392264 kB\n",
            "Cached:          4680324 kB\n",
            "top - 11:11:29 up 2 min,  0 users,  load average: 3.01, 1.17, 0.43\n",
            "Tasks:  19 total,   1 running,  17 sleeping,   0 stopped,   1 zombie\n",
            "%Cpu(s):  3.3 us,  3.3 sy,  0.0 ni, 60.0 id, 33.3 wa,  0.0 hi,  0.0 si,  0.0 st\n",
            "MiB Mem :  12977.9 total,   6743.6 free,   1139.4 used,   5094.9 buff/cache\n",
            "MiB Swap:      0.0 total,      0.0 free,      0.0 used.  11532.9 avail Mem \n",
            "\n",
            "    PID USER      PR  NI    VIRT    RES    SHR S  %CPU  %MEM     TIME+ COMMAND\n",
            "     95 root      20   0  384832 132244  27296 S   6.7   1.0   0:06.13 jupyter+\n",
            "      1 root      20   0    1076      8      0 S   0.0   0.0   0:00.02 docker-+\n",
            "      7 root      20   0 1227336  59160  41324 S   0.0   0.4   0:00.88 node\n",
            "      9 root      20   0    7376   3440   3140 S   0.0   0.0   0:00.06 oom_mon+\n",
            "     11 root      20   0    7376   1868   1584 S   0.0   0.0   0:00.00 run.sh\n",
            "     12 root      20   0 1237116  14212   9380 S   0.0   0.1   0:00.10 kernel_+\n",
            "     42 root      20   0    5808   1076    980 S   0.0   0.0   0:00.01 tail\n",
            "     47 root      20   0    5808   1004    912 S   0.0   0.0   0:00.01 tail\n",
            "     73 root      20   0       0      0      0 Z   0.0   0.0   0:22.81 python3\n",
            "     74 root      20   0   77372  57560  19484 S   0.0   0.4   0:01.11 colab-f+\n",
            "     96 root      20   0 1229224   6420   3652 S   0.0   0.0   0:00.04 dap_mul+\n",
            "    358 root      20   0 4752520 606292 249060 S   0.0   4.6   0:10.00 python3\n",
            "    390 root      20   0  545080  20664   5868 S   0.0   0.2   0:00.82 python3\n"
          ]
        }
      ]
    },
    {
      "cell_type": "code",
      "source": [
        "# Convert datasets to IOBES\n",
        "train_iobes = convert_dataset_to_iobes(train)\n",
        "dev_iobes = convert_dataset_to_iobes(dev)\n",
        "test_iobes = convert_dataset_to_iobes(test)"
      ],
      "metadata": {
        "id": "RFOZ1TMLFXpv"
      },
      "execution_count": 11,
      "outputs": []
    },
    {
      "cell_type": "code",
      "source": [
        "# Display example of conversion\n",
        "print(\"Example of IOB to IOBES conversion:\")\n",
        "example_idx = 0  # Pick the first sentence as an example\n",
        "print(\"Original (IOB):\", train[example_idx][1][:10])  # Show first 10 tags\n",
        "print(\"Converted (IOBES):\", train_iobes[example_idx][1][:10])"
      ],
      "metadata": {
        "id": "LplGVZcWFZkR",
        "colab": {
          "base_uri": "https://localhost:8080/"
        },
        "outputId": "5d28a67c-b5ec-4b16-e3cf-cc4bc36421fc"
      },
      "execution_count": 12,
      "outputs": [
        {
          "output_type": "stream",
          "name": "stdout",
          "text": [
            "Example of IOB to IOBES conversion:\n",
            "Original (IOB): ['B-ORG', 'O', 'B-ORG', 'O']\n",
            "Converted (IOBES): ['S-ORG', 'O', 'S-ORG', 'O']\n"
          ]
        }
      ]
    },
    {
      "cell_type": "markdown",
      "metadata": {
        "id": "IuGwk6OwRWGS"
      },
      "source": [
        "<!-- ## Step 3: Create vocab\n",
        "\n",
        "The following `Vocab` class can be served as a dictionary that maps words and tags into Ids.   \n",
        "The `UNK_TOKEN` should be used for words that are not part of the training data.\n",
        "\n",
        "Note: you may change the Vocab class. -->\n",
        "\n",
        "## Step 3: Create Vocab\n",
        "\n",
        "The `Vocab` class will serve as a dictionary that maps words and tags into IDs. Use the `UNK_TOKEN` for words that are not part of the training data.\n",
        "\n",
        "**Special Tokens:**\n",
        "- `PAD_TOKEN = 0`\n",
        "- `UNK_TOKEN = 1`\n",
        "\n",
        "### Your Task\n",
        "1. **Define Special Tokens**: Define special tokens such as `PAD_TOKEN` and `UNK_TOKEN` and assign them unique IDs.\n",
        "2. **Initialize Dictionaries**: Populate the word and tag dictionaries based on the training set.\n",
        "\n",
        "Note: you may change the Vocab class."
      ]
    },
    {
      "cell_type": "code",
      "execution_count": null,
      "metadata": {
        "id": "0H2D2zSR4GQ9"
      },
      "outputs": [],
      "source": [
        "vocab = Vocab(train)\n",
        "print(vocab.tag2id)\n",
        "print(f\"Vocab size: {vocab.n_words}\")"
      ]
    },
    {
      "cell_type": "markdown",
      "metadata": {
        "id": "iDKYryfKfNdh"
      },
      "source": [
        "## Step 4: Prepare Data\n",
        "Write a function `prepare_data` that takes one of the [train, dev, test] and the `Vocab` instance, for converting each pair of (words, tags) to a pair of indexes. Additionally, the function should pad the sequences to the maximum length sequence **of the given split**.\n",
        "\n",
        "Note: Vocabulary is based only on the train set.\n",
        "\n",
        "### Your Task\n",
        "1. Convert each pair of (words, tags) to a pair of indexes using the Vocab instance.\n",
        "2. Pad the sequences to the maximum length of the sequences in the given split."
      ]
    },
    {
      "cell_type": "code",
      "execution_count": null,
      "metadata": {
        "id": "noIY3zWKvhBd"
      },
      "outputs": [],
      "source": [
        "def prepare_data(data: DataType, vocab: Vocab):\n",
        "  data_sequences = []\n",
        "  # TO DO ----------------------------------------------------------------------\n",
        "\n",
        "  # TO DO ----------------------------------------------------------------------\n",
        "  return data_sequences"
      ]
    },
    {
      "cell_type": "code",
      "execution_count": null,
      "metadata": {
        "id": "Y4mryWuq6rox"
      },
      "outputs": [],
      "source": [
        "train_sequences = prepare_data(train, vocab)\n",
        "dev_sequences = prepare_data(dev, vocab)\n",
        "test_sequences = prepare_data(test, vocab)"
      ]
    },
    {
      "cell_type": "markdown",
      "metadata": {
        "id": "aSR-qJnIQGUJ"
      },
      "source": [
        "### Your Task\n",
        "Print the number of OOV in dev and test sets:"
      ]
    },
    {
      "cell_type": "code",
      "execution_count": null,
      "metadata": {
        "id": "QaXaJe5wrGhl"
      },
      "outputs": [],
      "source": [
        "def count_oov(sequences) -> int:\n",
        "  \"\"\"\n",
        "  Count the number of OOV words.\n",
        "  :param sequences: list of sequences\n",
        "  :return: number of OOV words\n",
        "  \"\"\"\n",
        "  oov = -1\n",
        "  # TO DO ----------------------------------------------------------------------\n",
        "\n",
        "  # TO DO ----------------------------------------------------------------------\n",
        "  return oov"
      ]
    },
    {
      "cell_type": "markdown",
      "source": [
        "## Step 5: Extract Casing Features\n",
        "\n",
        "The casing of words (uppercase, lowercase, etc.) can provide useful information for NER. Let's add this feature to improve our model.\n",
        "\n",
        "### Your Task\n",
        "1. Implement a function to extract casing features for each word.\n",
        "2. Modify the data preparation to include these features.\n",
        "\n",
        "Casing features to extract:\n",
        "- Is all lowercase\n",
        "- Is all uppercase\n",
        "- Is titlecase (first letter capital)\n",
        "- Has non-initial capital letters\n",
        "- Contains digits\n",
        "\"\"\""
      ],
      "metadata": {
        "id": "W-nWrqbLNZPY"
      }
    },
    {
      "cell_type": "code",
      "source": [
        "def get_casing_features(word: str) -> list[int]:\n",
        "  \"\"\"\n",
        "  Extract casing features for a word.\n",
        "\n",
        "  Features:\n",
        "  - Is all lowercase (1/0)\n",
        "  - Is all uppercase (1/0)\n",
        "  - Is titlecase (first letter capital only) (1/0)\n",
        "  - Has non-initial capital letters (1/0)\n",
        "  - Contains digits (1/0)\n",
        "\n",
        "  Args:\n",
        "      word (str): Input word\n",
        "\n",
        "  Returns:\n",
        "      list[int]: Binary features [0/1, 0/1, 0/1, 0/1, 0/1]\n",
        "  \"\"\"\n",
        "  # TO DO ----------------------------------------------------------------------\n",
        "\n",
        "  # TO DO ----------------------------------------------------------------------\n",
        "  return [0, 0, 0, 0, 0]  # Placeholder\n",
        "\n",
        "def prepare_data_with_casing(data: DataType, vocab: Vocab):\n",
        "  \"\"\"\n",
        "  Prepare data with additional casing features.\n",
        "\n",
        "  Args:\n",
        "      data (DataType): Input data\n",
        "      vocab (Vocab): Vocabulary instance\n",
        "\n",
        "  Returns:\n",
        "      list: List of sequences with word IDs, casing features, and tag IDs\n",
        "  \"\"\"\n",
        "  data_sequences = []\n",
        "  # TO DO ----------------------------------------------------------------------\n",
        "\n",
        "  # TO DO ----------------------------------------------------------------------\n",
        "  return data_sequences"
      ],
      "metadata": {
        "id": "UaVnJFxGNeMS"
      },
      "execution_count": null,
      "outputs": []
    },
    {
      "cell_type": "code",
      "source": [
        "# Prepare data with casing features\n",
        "train_sequences_casing = prepare_data_with_casing(train_iobes, vocab)\n",
        "dev_sequences_casing = prepare_data_with_casing(dev_iobes, vocab)\n",
        "test_sequences_casing = prepare_data_with_casing(test_iobes, vocab)"
      ],
      "metadata": {
        "id": "9vbsCMTjNpdE"
      },
      "execution_count": null,
      "outputs": []
    },
    {
      "cell_type": "markdown",
      "metadata": {
        "id": "QxC7SyD0EaMF"
      },
      "source": [
        "## Step 6: Dataloaders\n",
        "Create dataloaders for each split in the dataset. They should return the samples as Tensors.\n",
        "\n",
        "**Hint** - you can create a Dataset to support this part.\n",
        "\n",
        "For the training set, use shuffling, and for the dev and test, not."
      ]
    },
    {
      "cell_type": "code",
      "execution_count": null,
      "metadata": {
        "id": "-zrosQU95vYZ"
      },
      "outputs": [],
      "source": [
        "def prepare_data_loader(sequences, batch_size: int, train: bool = True):\n",
        "  \"\"\"\n",
        "  Create a dataloader from a list of sequences.\n",
        "  :param sequences: list of sequences\n",
        "  :param batch_size: batch size\n",
        "  :param train: whether to shuffle the dataloader or not\n",
        "  :return: dataloader\n",
        "  \"\"\"\n",
        "  dataloader = None\n",
        "  # TO DO ----------------------------------------------------------------------\n",
        "\n",
        "  # TO DO ----------------------------------------------------------------------\n",
        "  return dataloader"
      ]
    },
    {
      "cell_type": "code",
      "execution_count": null,
      "metadata": {
        "id": "vpMZ1C15t4Ra"
      },
      "outputs": [],
      "source": [
        "def prepare_data_loader(sequences, batch_size: int, train: bool = True):\n",
        "  \"\"\"\n",
        "  Create a dataloader from a list of sequences.\n",
        "  :param sequences: list of sequences\n",
        "  :param batch_size: batch size\n",
        "  :param train: whether to shuffle the dataloader or not\n",
        "  :return: dataloader\n",
        "  \"\"\"\n",
        "  dataloader = None\n",
        "  # TO DO ----------------------------------------------------------------------\n",
        "  dataset = NERDataset(sequences)\n",
        "  dataloader = DataLoader(dataset, batch_size=batch_size, shuffle=train)\n",
        "  # TO DO ----------------------------------------------------------------------\n",
        "  return dataloader"
      ]
    },
    {
      "cell_type": "code",
      "execution_count": null,
      "metadata": {
        "id": "YWhK-O-suA93"
      },
      "outputs": [],
      "source": [
        "BATCH_SIZE = 16\n",
        "dl_train = prepare_data_loader(train_sequences, batch_size=BATCH_SIZE)\n",
        "dl_dev = prepare_data_loader(dev_sequences, batch_size=BATCH_SIZE, train=False)\n",
        "dl_test = prepare_data_loader(test_sequences, batch_size=BATCH_SIZE, train=False)\n",
        "len(dl_train), len(dl_dev), len(dl_test)"
      ]
    },
    {
      "cell_type": "markdown",
      "metadata": {
        "id": "UeLdRU9R-pm3"
      },
      "source": [
        "<br><br><br><br><br><br>"
      ]
    },
    {
      "cell_type": "markdown",
      "metadata": {
        "id": "aUsgtdW869JH"
      },
      "source": [
        "# Part 2 - NER Model Training"
      ]
    },
    {
      "cell_type": "markdown",
      "metadata": {
        "id": "UccfiRRtiEet"
      },
      "source": [
        "## Step 1: Implement Model\n",
        "\n",
        "Write NERNet, a PyTorch Module for labeling words with NER tags.\n",
        "\n",
        "> `input_size`: the size of the vocabulary  \n",
        "`embedding_size`: the size of the embeddings  \n",
        "`hidden_size`: the LSTM hidden size  \n",
        "`output_size`: the number tags we are predicting for  \n",
        "`n_layers`: the number of layers we want to use in LSTM  \n",
        "`directions`: could 1 or 2, indicating unidirectional or bidirectional LSTM, respectively  \n",
        "\n",
        "<br>  \n",
        "\n",
        "The input for your forward function should be a single sentence tensor.\n",
        "\n",
        "*Note: the embeddings in this section are learned embedding. That means that you don't need to use pretrained embedding like the one used in the last excersie. You will use them in part 5.*\n",
        "\n",
        "*Note: You may change the NERNet class.*"
      ]
    },
    {
      "cell_type": "code",
      "execution_count": null,
      "metadata": {
        "id": "Ke1LyUQNyQaM"
      },
      "outputs": [],
      "source": [
        "class NERNet(nn.Module):\n",
        "  def __init__(self, input_size: int, embedding_size: int, hidden_size: int, output_size: int, n_layers: int, directions: int):\n",
        "    \"\"\"\n",
        "    Initialize a NERNet instance.\n",
        "    :param input_size: the size of the vocabulary\n",
        "    :param embedding_size: the size of the embeddings\n",
        "    :param hidden_size: the LSTM hidden size\n",
        "    :param output_size: the number tags we are predicting for\n",
        "    :param n_layers: the number of layers we want to use in LSTM\n",
        "    :param directions: could be 1 or 2, indicating unidirectional or bidirectional LSTM, respectively\n",
        "    \"\"\"\n",
        "    super(NERNet, self).__init__()\n",
        "    # TO DO ----------------------------------------------------------------------\n",
        "\n",
        "    # TO DO ----------------------------------------------------------------------\n",
        "\n",
        "  def forward(self, input_sentence):\n",
        "    # TO DO ----------------------------------------------------------------------\n",
        "    # input_sentence: (batch_size, seq_len)\n",
        "\n",
        "    # TO DO ----------------------------------------------------------------------\n",
        "    return output"
      ]
    },
    {
      "cell_type": "code",
      "execution_count": null,
      "metadata": {
        "id": "0nrbHIei19s5"
      },
      "outputs": [],
      "source": [
        "model = NERNet(vocab.n_words, embedding_size=300, hidden_size=500, output_size=vocab.n_tags, n_layers=3, directions=2)\n",
        "model.to(DEVICE)"
      ]
    },
    {
      "cell_type": "markdown",
      "metadata": {
        "id": "dEGSQdeUkTP8"
      },
      "source": [
        "## Step 2: Training Loop\n",
        "\n",
        "Write a training loop, which takes a model (instance of NERNet), number of epochs to train on, and the train&dev datasets.  \n",
        "\n",
        "The function will return the `loss` and `accuracy` durring training.  \n",
        "(If you're using a different/additional metrics, return them too)\n",
        "\n",
        "The loss is always CrossEntropyLoss and the optimizer is always Adam.\n",
        "Make sure to use `tqdm` while iterating on `n_epochs`.\n"
      ]
    },
    {
      "cell_type": "code",
      "execution_count": null,
      "metadata": {
        "id": "avkHfjT3k0HM"
      },
      "outputs": [],
      "source": [
        "def train_loop(model: NERNet, n_epochs: int, dataloader_train, dataloader_dev):\n",
        "  \"\"\"\n",
        "  Train a model.\n",
        "  :param model: model instance\n",
        "  :param n_epochs: number of epochs to train on\n",
        "  :param dataloader_train: train dataloader\n",
        "  :param dataloader_dev: dev dataloader\n",
        "  :return: loss and accuracy during training\n",
        "  \"\"\"\n",
        "  # Optimizer (ADAM is a fancy version of SGD)\n",
        "  optimizer = Adam(model.parameters(), lr=0.0001)\n",
        "\n",
        "  # Record\n",
        "  metrics = {'loss': {'train': [], 'dev': []}, 'accuracy': {'train': [], 'dev': []}}\n",
        "\n",
        "  # Move model to device\n",
        "  model.to(DEVICE)\n",
        "\n",
        "  ## TO DO ----------------------------------------------------------------------\n",
        "\n",
        "  # TO DO ----------------------------------------------------------------------\n",
        "  return metrics"
      ]
    },
    {
      "cell_type": "code",
      "execution_count": null,
      "metadata": {
        "id": "2KC1nYSi18PV"
      },
      "outputs": [],
      "source": [
        "metrics = train_loop(model, n_epochs=5, dataloader_train=dl_train, dataloader_dev=dl_dev)\n",
        "metrics"
      ]
    },
    {
      "cell_type": "markdown",
      "metadata": {
        "id": "T9C9su31_r7F"
      },
      "source": [
        "<br><br><br><br><br><br>"
      ]
    },
    {
      "cell_type": "markdown",
      "metadata": {
        "id": "OqSMEZDK9OPY"
      },
      "source": [
        "# Part 3 - Evaluation"
      ]
    },
    {
      "cell_type": "markdown",
      "metadata": {
        "id": "baN1c_B7lTjb"
      },
      "source": [
        "\n",
        "## Step 1: Evaluation Function\n",
        "\n",
        "Write an evaluation loop for a trained model using the dev and test datasets. This function will print the `Recall`, `Precision`, and `F1` scores and plot a `Confusion Matrix`.\n",
        "\n",
        "Perform this evaluation twice:\n",
        "1. For all labels (7 labels in total).\n",
        "2. For all labels except \"O\" (6 labels in total)."
      ]
    },
    {
      "cell_type": "markdown",
      "metadata": {
        "id": "K6MhtYgh7hDO"
      },
      "source": [
        "## Metrics and Display\n",
        "\n",
        "### Metrics\n",
        "- **Recall**: True Positive Rate (TPR), also known as Recall.\n",
        "- **Precision**: The opposite of False Positive Rate (FPR), also known as Precision.\n",
        "- **F1 Score**: The harmonic mean of Precision and Recall.\n",
        "\n",
        "*Note*: For all these metrics, use **weighted** averaging:\n",
        "Calculate metrics for each label, and find their average weighted by support. Refer to the [sklearn documentation](https://scikit-learn.org/stable/modules/generated/sklearn.metrics.precision_recall_fscore_support.html#sklearn.metrics.precision_recall_fscore_support) for more details.\n",
        "\n",
        "### Display\n",
        "1. Print the `Recall`, `Precision`, and `F1` scores in a tabulated format.\n",
        "2. Display a `Confusion Matrix` plot:\n",
        "   - Rows represent the predicted labels.\n",
        "   - Columns represent the true labels.\n",
        "   - Include a title for the plot, axis names, and the names of the tags on the X-axis."
      ]
    },
    {
      "cell_type": "code",
      "execution_count": null,
      "metadata": {
        "id": "iyQAjGaqmd8U"
      },
      "outputs": [],
      "source": [
        "def evaluate(model: NERNet, title: str, dataloader: DataLoader, vocab: Vocab):\n",
        "  \"\"\"\n",
        "  Evaluate a trained model on the given dataset.\n",
        "  :param model: model instance\n",
        "  :param title: title for the plot\n",
        "  :param dataloader: dataloader\n",
        "  :param vocab: Vocab instance\n",
        "  :return: Dictionary of evaluation results\n",
        "  \"\"\"\n",
        "  results = {}\n",
        "  # TO DO ----------------------------------------------------------------------\n",
        "\n",
        "  # TO DO ----------------------------------------------------------------------\n",
        "  return results"
      ]
    },
    {
      "cell_type": "markdown",
      "metadata": {
        "id": "trn5-50FyGoF"
      },
      "source": [
        "## Step 2: Train & Evaluate on Dev Set"
      ]
    },
    {
      "cell_type": "markdown",
      "metadata": {
        "id": "LQSXqWNOmqG4"
      },
      "source": [
        "Train and evaluate (on the dev set) a few models, all with `embedding_size=300` and `N_EPOCHS=5` (for fairness and computational reasons), and with the following hyper parameters (you may use that as captions for the models as well):\n",
        "\n",
        "- Model 1: (hidden_size: 500, n_layers: 1, directions: 1)\n",
        "- Model 2: (hidden_size: 500, n_layers: 2, directions: 1)\n",
        "- Model 3: (hidden_size: 500, n_layers: 3, directions: 1)\n",
        "- Model 4: (hidden_size: 500, n_layers: 1, directions: 2)\n",
        "- Model 5: (hidden_size: 500, n_layers: 2, directions: 2)\n",
        "- Model 6: (hidden_size: 500, n_layers: 3, directions: 2)\n",
        "- Model 7: (hidden_size: 800, n_layers: 1, directions: 2)\n",
        "- Model 8: (hidden_size: 800, n_layers: 2, directions: 2)\n",
        "- Model 9: (hidden_size: 800, n_layers: 3, directions: 2)\n",
        "\n",
        "\n"
      ]
    },
    {
      "cell_type": "code",
      "execution_count": null,
      "metadata": {
        "id": "U3RcWmNAsoTj"
      },
      "outputs": [],
      "source": [
        "N_EPOCHS = 5\n",
        "EMB_DIM = 300"
      ]
    },
    {
      "cell_type": "markdown",
      "metadata": {
        "id": "OCaaeKV2CZF-"
      },
      "source": [
        "Here is an example (random numbers) of the display of the results):"
      ]
    },
    {
      "cell_type": "code",
      "execution_count": null,
      "metadata": {
        "id": "Im49dRJeCjdv"
      },
      "outputs": [],
      "source": [
        "# Example:\n",
        "results_acc = np.random.rand(9, 10)\n",
        "columns = ['N_MODEL','HIDDEN_SIZE','N_LAYERS','DIRECTIONS','RECALL','PERCISION','F1','RECALL_WO_O','PERCISION_WO_O','F1_WO_O']\n",
        "df = pd.DataFrame(results_acc, columns=columns)\n",
        "df.N_MODEL = [f'model_{n}' for n in range(1,10)]\n",
        "print(tabulate(df, headers='keys', tablefmt='psql',floatfmt=\".4f\"))"
      ]
    },
    {
      "cell_type": "code",
      "execution_count": null,
      "metadata": {
        "id": "r1p7_f3JCeP2"
      },
      "outputs": [],
      "source": [
        "# Define models with their hyperparameters\n",
        "models = {\n",
        "  'Model1': {'embedding_size': EMB_DIM, 'hidden_size': 500, 'n_layers': 1, 'directions': 1},\n",
        "  'Model2': {'embedding_size': EMB_DIM, 'hidden_size': 500, 'n_layers': 2, 'directions': 1},\n",
        "  'Model3': {'embedding_size': EMB_DIM, 'hidden_size': 500, 'n_layers': 3, 'directions': 1},\n",
        "  'Model4': {'embedding_size': EMB_DIM, 'hidden_size': 500, 'n_layers': 1, 'directions': 2},\n",
        "  'Model5': {'embedding_size': EMB_DIM, 'hidden_size': 500, 'n_layers': 2, 'directions': 2},\n",
        "  'Model6': {'embedding_size': EMB_DIM, 'hidden_size': 500, 'n_layers': 3, 'directions': 2},\n",
        "  'Model7': {'embedding_size': EMB_DIM, 'hidden_size': 800, 'n_layers': 1, 'directions': 2},\n",
        "  'Model8': {'embedding_size': EMB_DIM, 'hidden_size': 800, 'n_layers': 2, 'directions': 2},\n",
        "  'Model9': {'embedding_size': EMB_DIM, 'hidden_size': 800, 'n_layers': 3, 'directions': 2},\n",
        "}"
      ]
    },
    {
      "cell_type": "code",
      "source": [
        "# TO DO ----------------------------------------------------------------------\n",
        "\n",
        "# TO DO ----------------------------------------------------------------------\n",
        "\n",
        "# Print results in tabulated format\n",
        "print(tabulate(results_dev, headers='keys', tablefmt='psql', floatfmt=\".4f\"))"
      ],
      "metadata": {
        "id": "gCV_zailBM8P"
      },
      "execution_count": null,
      "outputs": []
    },
    {
      "cell_type": "markdown",
      "metadata": {
        "id": "U4o5joZgA1YE"
      },
      "source": [
        "## Step 3: Evaluate on Test Set\n",
        "Evaluate your models on the test set and save the results as a CSV. Add this file to your repo for submission."
      ]
    },
    {
      "cell_type": "code",
      "execution_count": null,
      "metadata": {
        "id": "gTNmBU6hycZl",
        "collapsed": true
      },
      "outputs": [],
      "source": [
        "results = pd.DataFrame(columns=columns)\n",
        "file_name = \"NER_results.csv\"\n",
        "# TO DO ----------------------------------------------------------------------\n",
        "\n",
        "# TO DO ----------------------------------------------------------------------\n",
        "print(tabulate(results, headers='keys', tablefmt='psql',floatfmt=\".4f\"))\n"
      ]
    },
    {
      "cell_type": "markdown",
      "metadata": {
        "id": "8Y4U4eHmShw8"
      },
      "source": [
        "## Step 4 - Best Model\n",
        "Decide which model performs the best, write its configuration, train it for 5 more epochs and evaluate it on the test set."
      ]
    },
    {
      "cell_type": "code",
      "execution_count": null,
      "metadata": {
        "id": "M3TnKYqmSvds"
      },
      "outputs": [],
      "source": [
        "best_model_cfg = {'embedding_size':EMB_DIM, 'hidden_size': -1, 'n_layers': -1, 'directions': -1}\n",
        "# TO DO ----------------------------------------------------------------------\n",
        "\n",
        "# TO DO ----------------------------------------------------------------------"
      ]
    },
    {
      "cell_type": "markdown",
      "metadata": {
        "id": "rsCfk8caB3iU"
      },
      "source": [
        "<br><br><br><br><br>"
      ]
    },
    {
      "cell_type": "markdown",
      "metadata": {
        "id": "nF_jrCkpCVUD"
      },
      "source": [
        "# Part 4 - Pretrained Embeddings"
      ]
    },
    {
      "cell_type": "markdown",
      "metadata": {
        "id": "UM74r0_8nk5s"
      },
      "source": [
        "\n",
        "\n",
        "To prepare for this task, please read [this discussion](https://discuss.pytorch.org/t/can-we-use-pre-trained-word-embeddings-for-weight-initialization-in-nn-embedding/1222).\n",
        "\n",
        "**TIP**: Ensure that the vectors are aligned with the IDs in your vocabulary. In other words, make sure that the word with ID 0 corresponds to the first vector in the GloVe matrix used to initialize `nn.Embedding`.\n",
        "\n"
      ]
    },
    {
      "cell_type": "markdown",
      "metadata": {
        "id": "A6rrSb-bFoTa"
      },
      "source": [
        "## Step 1: Get Data"
      ]
    },
    {
      "cell_type": "markdown",
      "metadata": {
        "id": "dscQwqxvBP5-"
      },
      "source": [
        "\n",
        "\n",
        "Download the GloVe embeddings from [this link](https://nlp.stanford.edu/projects/glove/). Use the 300-dimensional vectors from `glove.6B.zip`.\n",
        "\n"
      ]
    },
    {
      "cell_type": "code",
      "execution_count": null,
      "metadata": {
        "id": "gbY3bBiH_9E8"
      },
      "outputs": [],
      "source": [
        "# TO DO ----------------------------------------------------------------------\n",
        "\n",
        "# TO DO ----------------------------------------------------------------------"
      ]
    },
    {
      "cell_type": "markdown",
      "metadata": {
        "id": "eBLEK9R3Fxye"
      },
      "source": [
        "## Step 2: Inject Embeddings"
      ]
    },
    {
      "cell_type": "markdown",
      "metadata": {
        "id": "xH8ybhqY_8US"
      },
      "source": [
        "Then intialize the `nn.Embedding` module in your `NERNet` with these embeddings, so that you can start your training with pre-trained vectors."
      ]
    },
    {
      "cell_type": "code",
      "execution_count": null,
      "metadata": {
        "id": "OXSEIjfe9DSy"
      },
      "outputs": [],
      "source": [
        "def get_emb_matrix(filepath: str, vocab: Vocab) -> np.ndarray:\n",
        "  emb_matrix = np.zeros((len(vocab.word2id), 300))\n",
        "  # TO DO ----------------------------------------------------------------------\n",
        "\n",
        "  # TO DO ----------------------------------------------------------------------\n",
        "  return emb_matrix"
      ]
    },
    {
      "cell_type": "code",
      "execution_count": null,
      "metadata": {
        "id": "I56mqREnVRey"
      },
      "outputs": [],
      "source": [
        "def initialize_from_pretrained_emb(model: NERNet, emb_matrix: np.ndarray):\n",
        "  \"\"\"\n",
        "  Inject the pretrained embeddings into the model.\n",
        "  :param model: model instance\n",
        "  :param emb_matrix: pretrained embeddings\n",
        "  \"\"\"\n",
        "  # TO DO ----------------------------------------------------------------------\n",
        "\n",
        "  # TO DO ----------------------------------------------------------------------"
      ]
    },
    {
      "cell_type": "code",
      "execution_count": null,
      "metadata": {
        "id": "lf0byP9y_9jG"
      },
      "outputs": [],
      "source": [
        "# Read embeddings and inject them to a model\n",
        "emb_file = 'glove.6B.300d.txt'\n",
        "emb_matrix = get_emb_matrix(emb_file, vocab)\n",
        "ner_glove = NERNet(input_size=VOCAB_SIZE, embedding_size=EMB_DIM, hidden_size=500, output_size=NUM_TAGS, n_layers=1, directions=1)\n",
        "initialize_from_pretrained_emb(ner_glove, emb_matrix)"
      ]
    },
    {
      "cell_type": "markdown",
      "metadata": {
        "id": "JElogtlHF4DN"
      },
      "source": [
        "## Step 3: Evaluate on Test Set"
      ]
    },
    {
      "cell_type": "markdown",
      "metadata": {
        "id": "Obm_WN4_ALmM"
      },
      "source": [
        "Same as the evaluation process before, please display:\n",
        "\n",
        "1. Print a `RECALL-PERCISION-F1` scores in a tabulate format.\n",
        "2. Display a `confusion matrix` plot: where the predicted labels are the rows, and the true labels are the columns.\n",
        "\n",
        "Make sure to use the title for the plot, axis names, and the names of the tags on the X-axis.\n",
        "\n",
        "Make sure to download and upload this CSV as well."
      ]
    },
    {
      "cell_type": "code",
      "execution_count": null,
      "metadata": {
        "id": "c7Xw3h6mAhRw"
      },
      "outputs": [],
      "source": [
        "results = pd.DataFrame(columns=columns)\n",
        "file_name = \"NER_results_glove.csv\"\n",
        "# TO DO ----------------------------------------------------------------------\n",
        "\n",
        "# TO DO ----------------------------------------------------------------------\n",
        "print(tabulate(results, headers='keys', tablefmt='psql',floatfmt=\".4f\"))"
      ]
    },
    {
      "cell_type": "markdown",
      "metadata": {
        "id": "c5XrhAdNXShg"
      },
      "source": [
        "## Step 4 - Best Model\n",
        "Decide which model performs the best, write its configuration, train it for 5 more epochs and evaluate it on the test set."
      ]
    },
    {
      "cell_type": "code",
      "execution_count": null,
      "metadata": {
        "id": "QHI_ECNwXR-7"
      },
      "outputs": [],
      "source": [
        "best_model_glove_cfg = {'embedding_size':EMB_DIM, 'hidden_size': -1, 'n_layers': -1, 'directions': -1}\n",
        "# TO DO ----------------------------------------------------------------------\n",
        "\n",
        "# TO DO ----------------------------------------------------------------------"
      ]
    },
    {
      "cell_type": "markdown",
      "source": [
        "# Part 5 - Error Analysis"
      ],
      "metadata": {
        "id": "SwHbsC7MgMEd"
      }
    },
    {
      "cell_type": "markdown",
      "source": [
        "In this part, you'll analyze the errors made by your best model to understand its strengths and weaknesses."
      ],
      "metadata": {
        "id": "QLtktllTgVpb"
      }
    },
    {
      "cell_type": "markdown",
      "source": [
        "## Step 1: Extract Predictions\n",
        "\n",
        "First, let's extract predictions from your best model on the test set:"
      ],
      "metadata": {
        "id": "zpEwdF8oghJ3"
      }
    },
    {
      "cell_type": "code",
      "source": [
        "def get_predictions(model, dataloader, vocab, PAD_TOKEN, DEVICE):\n",
        "    \"\"\"\n",
        "    Get predictions from the model on a dataloader.\n",
        "\n",
        "    Returns:\n",
        "        - true_tags_list: List of lists of true tag strings\n",
        "        - pred_tags_list: List of lists of predicted tag strings\n",
        "        - words_list: List of lists of words\n",
        "    \"\"\"\n",
        "    import torch\n",
        "\n",
        "    model.eval()\n",
        "    true_tags_list = []\n",
        "    pred_tags_list = []\n",
        "    words_list = []\n",
        "\n",
        "    with torch.no_grad():\n",
        "        # Handle different dataloader output formats\n",
        "        for batch in dataloader:\n",
        "            # Unpack based on actual dataloader output\n",
        "            if len(batch) == 3:  # (input_ids, casing_features, labels)\n",
        "                input_ids, casing_features, labels = batch\n",
        "                # Move tensors to device\n",
        "                input_ids = input_ids.to(DEVICE)\n",
        "                casing_features = casing_features.to(DEVICE)\n",
        "                labels = labels.to(DEVICE)\n",
        "\n",
        "                # Get model predictions\n",
        "                outputs = model(input_ids, casing_features)\n",
        "            else:  # (input_ids, labels)\n",
        "                input_ids, labels = batch\n",
        "                # Move tensors to device\n",
        "                input_ids = input_ids.to(DEVICE)\n",
        "                labels = labels.to(DEVICE)\n",
        "\n",
        "                # Get model predictions\n",
        "                outputs = model(input_ids)\n",
        "\n",
        "            _, predicted = torch.max(outputs, 2)\n",
        "\n",
        "            # Process each sequence in the batch\n",
        "            for i in range(input_ids.size(0)):\n",
        "                # Get sequence length (ignoring padding)\n",
        "                seq_len = (input_ids[i] != PAD_TOKEN).sum().item()\n",
        "\n",
        "                # Convert ids to tag strings and words\n",
        "                true_tags = [vocab.id2tag[tag.item()] for tag in labels[i][:seq_len]]\n",
        "                pred_tags = [vocab.id2tag[tag.item()] for tag in predicted[i][:seq_len]]\n",
        "                words = [vocab.id2word[word.item()] for word in input_ids[i][:seq_len]]\n",
        "\n",
        "                true_tags_list.append(true_tags)\n",
        "                pred_tags_list.append(pred_tags)\n",
        "                words_list.append(words)\n",
        "\n",
        "    return true_tags_list, pred_tags_list, words_list"
      ],
      "metadata": {
        "id": "gzWerE5rzjsH"
      },
      "execution_count": null,
      "outputs": []
    },
    {
      "cell_type": "markdown",
      "source": [
        "## Step 2: Implement Simple Error Analysis\n",
        "\n",
        "Now, implement a function to analyze the errors in predictions:"
      ],
      "metadata": {
        "id": "rBT9owrYgr_6"
      }
    },
    {
      "cell_type": "code",
      "source": [
        "def simple_analyze_errors(true_tags, pred_tags, words):\n",
        "    \"\"\"\n",
        "    Analyze errors in NER predictions.\n",
        "\n",
        "    Args:\n",
        "        true_tags: List of true tag sequences\n",
        "        pred_tags: List of predicted tag sequences\n",
        "        words: List of word sequences\n",
        "\n",
        "    Returns:\n",
        "        dict: Error statistics and examples\n",
        "    \"\"\"\n",
        "    # TODO: Implement error analysis\n",
        "    # 1. Initialize error categories\n",
        "    # 2. Process each sequence to identify errors\n",
        "    # 3. Categorize errors and collect examples\n",
        "    # 4. Return statistics and examples\n",
        "\n",
        "    # Placeholder\n",
        "    return {\n",
        "        'total_entities': 0,\n",
        "        'correct_entities': 0,\n",
        "        'accuracy': 0.0,\n",
        "        'error_counts': {},\n",
        "        'error_examples': {}\n",
        "    }"
      ],
      "metadata": {
        "id": "WNalBXJbgt6e"
      },
      "execution_count": null,
      "outputs": []
    },
    {
      "cell_type": "markdown",
      "source": [
        "## Step 3: Helper Functions\n",
        "\n",
        "Implement these helper functions to extract entities and check for overlapping spans:"
      ],
      "metadata": {
        "id": "Uv_tWhNYg7YP"
      }
    },
    {
      "cell_type": "code",
      "source": [
        "def get_entities_simple(tags):\n",
        "    \"\"\"\n",
        "    Extract entities from a sequence of tags.\n",
        "    Returns list of (start_idx, end_idx, entity_type) tuples.\n",
        "    \"\"\"\n",
        "    # TODO: Implement entity extraction\n",
        "    return []\n",
        "\n",
        "def has_overlap(start1, end1, start2, end2):\n",
        "    \"\"\"Check if two spans overlap\"\"\"\n",
        "    # TODO: Implement overlap checking\n",
        "    return False"
      ],
      "metadata": {
        "id": "6X75UgM2meDO"
      },
      "execution_count": null,
      "outputs": []
    },
    {
      "cell_type": "markdown",
      "source": [
        "## Step 4: Visualization and Analysis\n",
        "\n",
        "Create a function to display the error analysis results:"
      ],
      "metadata": {
        "id": "qG-HSI_S3se4"
      }
    },
    {
      "cell_type": "code",
      "source": [
        "def print_error_analysis(analysis):\n",
        "    \"\"\"Print a summary of the error analysis results\"\"\"\n",
        "    # TODO: Implement printing function to show:\n",
        "    # 1. Basic statistics (total entities, correct entities, accuracy)\n",
        "    # 2. Error counts by category\n",
        "    # 3. Examples of each error type\n",
        "    # 4. Suggestions for improvement based on findings\n",
        "    pass"
      ],
      "metadata": {
        "id": "E5MI6Wvn3tIs"
      },
      "execution_count": null,
      "outputs": []
    },
    {
      "cell_type": "markdown",
      "source": [
        "## Step 5: Improvement Suggestions\n",
        "\n",
        "Based on your error analysis, suggest at least three specific improvements to your model. Consider:\n",
        "\n",
        "1. What types of errors are most common?\n",
        "2. Are there patterns in the errors (e.g., specific entity types, contexts)?\n",
        "3. What techniques might address these specific error types?\n",
        "\n",
        "Write your suggestions in 3-5 sentences for each improvement."
      ],
      "metadata": {
        "id": "h5_bV_Eb34M_"
      }
    },
    {
      "cell_type": "code",
      "source": [
        "# Example usage\n",
        "if __name__ == \"__main__\":\n",
        "    # Sample data for testing\n",
        "    true_tags = [\n",
        "        ['O', 'B-PER', 'I-PER', 'O', 'B-LOC', 'I-LOC', 'O'],\n",
        "        ['B-ORG', 'I-ORG', 'O', 'B-PER', 'O']\n",
        "    ]\n",
        "\n",
        "    pred_tags = [\n",
        "        ['O', 'B-PER', 'O', 'O', 'B-ORG', 'I-ORG', 'O'],\n",
        "        ['B-ORG', 'I-ORG', 'I-ORG', 'B-PER', 'O']\n",
        "    ]\n",
        "\n",
        "    words = [\n",
        "        ['The', 'John', 'Smith', 'visited', 'New', 'York', 'yesterday'],\n",
        "        ['Google', 'Inc', 'hired', 'Alice', 'recently']\n",
        "    ]\n",
        "\n",
        "    # Run the error analysis\n",
        "    analysis = simple_analyze_errors(true_tags_list, pred_tags_list, words_list)\n",
        "    print_error_analysis(analysis)\n",
        "\n",
        "    # TODO: Write your improvement suggestions here"
      ],
      "metadata": {
        "id": "9OPBb6vV44JR"
      },
      "execution_count": null,
      "outputs": []
    },
    {
      "cell_type": "markdown",
      "source": [
        "Remember to focus on substantive analysis rather than code complexity. Your goal is to identify meaningful patterns and provide practical suggestions for improvement."
      ],
      "metadata": {
        "id": "A_YAo8Mn4B4X"
      }
    },
    {
      "cell_type": "markdown",
      "metadata": {
        "id": "8cUiLd_gCRO_"
      },
      "source": [
        "# Testing\n",
        "Copy the content of the **tests.py** file from the repo and paste below. This will create the results.json file and download it to your machine."
      ]
    },
    {
      "cell_type": "code",
      "execution_count": null,
      "metadata": {
        "id": "UMVrbY0SCRja"
      },
      "outputs": [],
      "source": [
        "####################\n",
        "# PLACE TESTS HERE #\n",
        "train_ds = read_data(\"data/train.txt\")\n",
        "dev_ds = read_data(\"data/dev.txt\")\n",
        "test_ds = read_data(\"data/test.txt\")\n",
        "def test_read_data():\n",
        "    result = {\n",
        "        'lengths': (len(train_ds), len(dev_ds), len(test_ds)),\n",
        "    }\n",
        "    return result\n",
        "\n",
        "vocab = Vocab(train_ds)\n",
        "def test_vocab():\n",
        "    sent = vocab.index_words([\"I\", \"am\", \"Spongebob\"])\n",
        "    return {\n",
        "        'length': vocab.n_words,\n",
        "        'tag2id_length': len(vocab.tag2id),\n",
        "        \"Spongebob\": sent[2]\n",
        "    }\n",
        "\n",
        "train_sequences = prepare_data(train_ds, vocab)\n",
        "dev_sequences = prepare_data(dev_ds, vocab)\n",
        "test_sequences = prepare_data(test_ds, vocab)\n",
        "\n",
        "def test_count_oov():\n",
        "    return {\n",
        "        'dev_oov': count_oov(dev_sequences),\n",
        "        'test_oov': count_oov(test_sequences)\n",
        "    }\n",
        "\n",
        "BATCH_SIZE = 16\n",
        "dl_train = prepare_data_loader(train_sequences, batch_size=BATCH_SIZE)\n",
        "dl_dev = prepare_data_loader(dev_sequences, batch_size=BATCH_SIZE, train=False)\n",
        "dl_test = prepare_data_loader(test_sequences, batch_size=BATCH_SIZE, train=False)\n",
        "\n",
        "def test_prepare_data_loader():\n",
        "    return {\n",
        "        'lengths': (len(dl_train), len(dl_dev), len(dl_test))\n",
        "    }\n",
        "\n",
        "\n",
        "def test_NERNet():\n",
        "    # Extract best model configuration\n",
        "    hidden_size = best_model_cfg['hidden_size']\n",
        "    n_layers = best_model_cfg['n_layers']\n",
        "    directions = best_model_cfg['directions']\n",
        "\n",
        "\n",
        "    # Create model\n",
        "    best_model = NERNet(vocab.n_words, embedding_size=300, hidden_size=hidden_size, output_size=vocab.n_tags, n_layers=n_layers, directions=directions)\n",
        "    best_model.to(DEVICE)\n",
        "\n",
        "    # Train model and evaluate\n",
        "    _ = train_loop(best_model, n_epochs=10, dataloader_train=dl_train, dataloader_dev=dl_dev)\n",
        "    results = evaluate(best_model, title=\"\", dataloader=dl_test, vocab=vocab)\n",
        "\n",
        "    return {\n",
        "        'f1': results['F1'],\n",
        "        'f1_wo_o': results['F1_WO_O'],\n",
        "    }\n",
        "\n",
        "def test_glove():\n",
        "    # Get embeddings\n",
        "    emb_file = 'glove.6B.300d.txt'\n",
        "    emb_matrix = get_emb_matrix(emb_file, vocab)\n",
        "\n",
        "    # Extract best model configuration\n",
        "    hidden_size = best_model_glove_cfg['hidden_size']\n",
        "    n_layers = best_model_glove_cfg['n_layers']\n",
        "    directions = best_model_glove_cfg['directions']\n",
        "\n",
        "    # Create model\n",
        "    best_model = NERNet(vocab.n_words, embedding_size=300, hidden_size=hidden_size, output_size=vocab.n_tags, n_layers=n_layers, directions=directions)\n",
        "    best_model.to(DEVICE)\n",
        "    initialize_from_pretrained_emb(ner_glove, emb_matrix)\n",
        "\n",
        "    # Train model and evaluate\n",
        "    _ = train_loop(best_model, n_epochs=10, dataloader_train=dl_train, dataloader_dev=dl_dev)\n",
        "    results = evaluate(best_model, title=\"\", dataloader=dl_test, vocab=vocab)\n",
        "\n",
        "    return {\n",
        "        'f1': results['F1'],\n",
        "        'f1_wo_o': results['F1_WO_O'],\n",
        "    }\n",
        "\n",
        "TESTS = [\n",
        "    test_read_data,\n",
        "    test_vocab,\n",
        "    test_count_oov,\n",
        "    test_prepare_data_loader,\n",
        "    test_NERNet,\n",
        "    test_glove\n",
        "]\n",
        "\n",
        "# Run tests and save results\n",
        "res = {}\n",
        "for test in TESTS:\n",
        "    try:\n",
        "        cur_res = test()\n",
        "        res.update({test.__name__: cur_res})\n",
        "    except Exception as e:\n",
        "        res.update({test.__name__: repr(e)})\n",
        "\n",
        "with open('results.json', 'w') as f:\n",
        "    json.dump(res, f, indent=2)\n",
        "\n",
        "# Download the results.json file\n",
        "files.download('results.json')\n",
        "\n",
        "####################\n"
      ]
    }
  ],
  "metadata": {
    "colab": {
      "provenance": []
    },
    "kernelspec": {
      "display_name": "Python 3",
      "name": "python3"
    }
  },
  "nbformat": 4,
  "nbformat_minor": 0
}